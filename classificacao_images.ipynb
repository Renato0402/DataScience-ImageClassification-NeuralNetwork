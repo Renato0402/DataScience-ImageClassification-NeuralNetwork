{
 "cells": [
  {
   "cell_type": "markdown",
   "metadata": {
    "pycharm": {
     "name": "#%% md\n"
    }
   },
   "source": [
    "## IMPORTANTO BIBLIOTECAS"
   ]
  },
  {
   "cell_type": "code",
   "execution_count": 3,
   "metadata": {
    "pycharm": {
     "name": "#%%\n"
    }
   },
   "outputs": [],
   "source": [
    "from sklearn.manifold import TSNE\n",
    "from sklearn.model_selection import train_test_split, cross_val_score, cross_val_predict\n",
    "from sklearn.metrics import confusion_matrix, ConfusionMatrixDisplay\n",
    "\n",
    "from tensorflow.keras.preprocessing import image\n",
    "from tensorflow import keras\n",
    "\n",
    "import tensorflow as tf\n",
    "import matplotlib.pyplot as plt\n",
    "import pandas as pd\n",
    "import numpy as np\n",
    "import seaborn as sns\n",
    "\n",
    "import os"
   ]
  },
  {
   "cell_type": "markdown",
   "metadata": {
    "pycharm": {
     "name": "#%% md\n"
    }
   },
   "source": [
    "## PARÂMETROS"
   ]
  },
  {
   "cell_type": "code",
   "execution_count": 15,
   "metadata": {
    "pycharm": {
     "name": "#%%\n"
    }
   },
   "outputs": [],
   "source": [
    "percentege_test_size = 0.2\n",
    "undersampling_size = -1 # -1 para não fazer undersampling\n",
    "\n",
    "# fig preprocessing\n",
    "largura = 100\n",
    "altura = 100\n",
    "modo_de_cor = 'rgb' # rgb, grayscale, rgba\n",
    "# fig preprocessing\n",
    "\n",
    "# diretorio = '../dados classificacao imagens/star-wars/'\n",
    "# diretorio = '../dados classificacao imagens/animais-kaggle/'\n",
    "# diretorio = '../dados classificacao imagens/dataset-documentos-full/'\n",
    "diretorio = './data/'"
   ]
  },
  {
   "cell_type": "markdown",
   "metadata": {
    "pycharm": {
     "name": "#%% md\n"
    }
   },
   "source": [
    "### CARREGANDO DATASET"
   ]
  },
  {
   "cell_type": "code",
   "execution_count": 16,
   "metadata": {
    "pycharm": {
     "name": "#%%\n"
    }
   },
   "outputs": [
    {
     "name": "stdout",
     "output_type": "stream",
     "text": [
      "['', 'non-vehicles', 'vehicles']\n",
      "['non-vehicles', 'vehicles']\n"
     ]
    },
    {
     "data": {
      "text/plain": "                                   image  target\n0       ./data/non-vehicles/image830.png       0\n1       ./data/vehicles/middle (189).png       1\n2               ./data/vehicles/4409.png       1\n3               ./data/vehicles/2524.png       1\n4      ./data/non-vehicles/extra3510.png       0\n...                                  ...     ...\n17755   ./data/non-vehicles/extra983.png       0\n17756           ./data/vehicles/4032.png       1\n17757  ./data/non-vehicles/extra4903.png       0\n17758           ./data/vehicles/5169.png       1\n17759  ./data/non-vehicles/image2498.png       0\n\n[17760 rows x 2 columns]",
      "text/html": "<div>\n<style scoped>\n    .dataframe tbody tr th:only-of-type {\n        vertical-align: middle;\n    }\n\n    .dataframe tbody tr th {\n        vertical-align: top;\n    }\n\n    .dataframe thead th {\n        text-align: right;\n    }\n</style>\n<table border=\"1\" class=\"dataframe\">\n  <thead>\n    <tr style=\"text-align: right;\">\n      <th></th>\n      <th>image</th>\n      <th>target</th>\n    </tr>\n  </thead>\n  <tbody>\n    <tr>\n      <th>0</th>\n      <td>./data/non-vehicles/image830.png</td>\n      <td>0</td>\n    </tr>\n    <tr>\n      <th>1</th>\n      <td>./data/vehicles/middle (189).png</td>\n      <td>1</td>\n    </tr>\n    <tr>\n      <th>2</th>\n      <td>./data/vehicles/4409.png</td>\n      <td>1</td>\n    </tr>\n    <tr>\n      <th>3</th>\n      <td>./data/vehicles/2524.png</td>\n      <td>1</td>\n    </tr>\n    <tr>\n      <th>4</th>\n      <td>./data/non-vehicles/extra3510.png</td>\n      <td>0</td>\n    </tr>\n    <tr>\n      <th>...</th>\n      <td>...</td>\n      <td>...</td>\n    </tr>\n    <tr>\n      <th>17755</th>\n      <td>./data/non-vehicles/extra983.png</td>\n      <td>0</td>\n    </tr>\n    <tr>\n      <th>17756</th>\n      <td>./data/vehicles/4032.png</td>\n      <td>1</td>\n    </tr>\n    <tr>\n      <th>17757</th>\n      <td>./data/non-vehicles/extra4903.png</td>\n      <td>0</td>\n    </tr>\n    <tr>\n      <th>17758</th>\n      <td>./data/vehicles/5169.png</td>\n      <td>1</td>\n    </tr>\n    <tr>\n      <th>17759</th>\n      <td>./data/non-vehicles/image2498.png</td>\n      <td>0</td>\n    </tr>\n  </tbody>\n</table>\n<p>17760 rows × 2 columns</p>\n</div>"
     },
     "execution_count": 16,
     "metadata": {},
     "output_type": "execute_result"
    }
   ],
   "source": [
    "targets = [x[0].replace(diretorio,'') for x in os.walk(diretorio)]\n",
    "\n",
    "print(targets)\n",
    "targets = targets[1:len(targets)] # exclui o primeiro da lista pq é o próprio diretório\n",
    "\n",
    "print(targets)\n",
    "\n",
    "dados = []\n",
    "\n",
    "class_to_int = {}\n",
    "\n",
    "k = 0\n",
    "\n",
    "for classe in targets:\n",
    "    imagens = os.listdir(diretorio+classe)\n",
    "    i = 0\n",
    "    class_to_int[classe] = k\n",
    "    k+=1\n",
    "    for img in imagens:\n",
    "        i+=1\n",
    "        \n",
    "        if (not '.txt' in img) and (not 'segmentation' in img) and (not 'desktop.ini' in img):\n",
    "            dados.append([diretorio+classe+'/'+img,class_to_int[classe]])\n",
    "        \n",
    "        if i == undersampling_size and undersampling_size != -1:\n",
    "            break\n",
    "\n",
    "dados = np.array(dados)\n",
    "\n",
    "np.random.shuffle(dados)\n",
    "            \n",
    "df_dados = pd.DataFrame(dados,columns=['image','target'])\n",
    "\n",
    "df_dados['target'] = df_dados['target'].astype('int64', copy=False)\n",
    "\n",
    "df_dados"
   ]
  },
  {
   "cell_type": "code",
   "execution_count": 17,
   "metadata": {
    "pycharm": {
     "name": "#%%\n"
    }
   },
   "outputs": [
    {
     "data": {
      "text/plain": "0    8968\n1    8792\nName: target, dtype: int64"
     },
     "execution_count": 17,
     "metadata": {},
     "output_type": "execute_result"
    }
   ],
   "source": [
    "df_dados['target'].value_counts()"
   ]
  },
  {
   "cell_type": "code",
   "execution_count": 17,
   "metadata": {
    "pycharm": {
     "name": "#%%\n"
    }
   },
   "outputs": [],
   "source": []
  },
  {
   "cell_type": "markdown",
   "metadata": {
    "pycharm": {
     "name": "#%% md\n"
    }
   },
   "source": [
    "## PREPARANDO DADOS"
   ]
  },
  {
   "cell_type": "code",
   "execution_count": 45,
   "metadata": {
    "pycharm": {
     "name": "#%%\n"
    }
   },
   "outputs": [],
   "source": [
    "def embedding(img_path,largura,altura,modo_de_cor):\n",
    "    img = image.load_img(img_path, target_size=(largura, altura),color_mode= modo_de_cor)\n",
    "    embed = image.img_to_array(img)\n",
    "\n",
    "    return embed"
   ]
  },
  {
   "cell_type": "code",
   "execution_count": 45,
   "metadata": {
    "pycharm": {
     "name": "#%%\n"
    }
   },
   "outputs": [],
   "source": []
  },
  {
   "cell_type": "code",
   "execution_count": 46,
   "metadata": {
    "pycharm": {
     "name": "#%%\n"
    }
   },
   "outputs": [],
   "source": [
    "y_full = df_dados['target'].array.to_numpy()\n",
    "\n",
    "X_full  = []\n",
    "for x in dados:\n",
    "    X_full.append(embedding(x[0],largura,altura,modo_de_cor))\n",
    "\n",
    "X_full = np.array(X_full)\n"
   ]
  },
  {
   "cell_type": "code",
   "execution_count": 46,
   "metadata": {
    "pycharm": {
     "name": "#%%\n"
    }
   },
   "outputs": [],
   "source": []
  },
  {
   "cell_type": "code",
   "execution_count": 47,
   "metadata": {
    "pycharm": {
     "name": "#%%\n"
    }
   },
   "outputs": [],
   "source": [
    "model_test_size = int(len(y_full) * percentege_test_size)\n",
    "\n",
    "X_test, X_train = X_full[:model_test_size] / 255.0, X_full[model_test_size:] / 255.0\n",
    "y_test, y_train = y_full[:model_test_size], y_full[model_test_size:]"
   ]
  },
  {
   "cell_type": "code",
   "execution_count": 47,
   "metadata": {
    "pycharm": {
     "name": "#%%\n"
    }
   },
   "outputs": [],
   "source": []
  },
  {
   "cell_type": "markdown",
   "metadata": {
    "pycharm": {
     "name": "#%% md\n"
    }
   },
   "source": [
    "## TREINANDO E VALIDANDO O MODELO"
   ]
  },
  {
   "cell_type": "code",
   "execution_count": 60,
   "metadata": {
    "pycharm": {
     "name": "#%%\n"
    }
   },
   "outputs": [
    {
     "name": "stdout",
     "output_type": "stream",
     "text": [
      "(100, 100, 3)\n"
     ]
    }
   ],
   "source": [
    "shape_entrada = (largura,altura,1)\n",
    "\n",
    "if(modo_de_cor == 'rgb'):\n",
    "    shape_entrada = (largura,altura,3)\n",
    "\n",
    "if(modo_de_cor == 'rgba'):\n",
    "    shape_entrada = (largura,altura,4)\n",
    "\n",
    "print(shape_entrada)\n",
    "\n",
    "model = keras.models.Sequential([\n",
    "\n",
    "########## MLP  #acc = 98.95 , params 1.5.M [0.09629715979099274, 0.9684684872627258] epochs = 53\n",
    "#keras.layers.Flatten(input_shape=shape_entrada),\n",
    "## keras.layers.Dense(3000, activation=\"relu\"),\n",
    "## keras.layers.Dense(1000, activation=\"relu\"),\n",
    "#keras.layers.Dense(50, activation=\"relu\"),\n",
    "#keras.layers.Dense(50, activation=\"relu\"),\n",
    "\n",
    "########## LSTM\n",
    " #keras.layers.LSTM(784, activation='relu', input_shape=shape_entrada),\n",
    "\n",
    "########## Stacked LSTM\n",
    "# keras.layers.LSTM(784, activation='relu', return_sequences=True, input_shape=shape_entrada),\n",
    "# keras.layers.LSTM(250, activation='relu', return_sequences=True),\n",
    "# keras.layers.LSTM(90, activation='relu', return_sequences=True),\n",
    "# keras.layers.LSTM(30, activation='relu'),\n",
    "\n",
    "########## Bidirectional LSTM\n",
    "#keras.layers.Bidirectional(keras.layers.LSTM(100, activation='relu'), input_shape=shape_entrada),\n",
    "\n",
    "########## Conv #20 min acc = 99.99, params 138k [0.004255861043930054, 0.9983108043670654]\n",
    "\n",
    "keras.layers.InputLayer(input_shape=shape_entrada),\n",
    "keras.layers.Conv2D(25, (5, 5), activation='relu', strides=(1, 1), padding='same'),\n",
    "keras.layers.MaxPool2D(pool_size=(2, 2), padding='same'),\n",
    "keras.layers.Conv2D(50, (5, 5), activation='relu', strides=(2, 2), padding='same'),\n",
    "keras.layers.MaxPool2D(pool_size=(2, 2), padding='same'),\n",
    "keras.layers.BatchNormalization(),\n",
    "keras.layers.Conv2D(70, (3, 3), activation='relu', strides=(2, 2), padding='same'),\n",
    "keras.layers.MaxPool2D(pool_size=(2, 2), padding='valid'),\n",
    "keras.layers.BatchNormalization(),\n",
    "keras.layers.Flatten(),\n",
    "keras.layers.Dense(units=100, activation='relu'),\n",
    "keras.layers.Dense(units=100, activation='relu'),\n",
    "keras.layers.Dropout(0.25),\n",
    "\n",
    "    \n",
    "keras.layers.Dense(len(np.unique(y_train)), activation=\"softmax\")\n",
    "])"
   ]
  },
  {
   "cell_type": "code",
   "execution_count": 61,
   "metadata": {
    "pycharm": {
     "name": "#%%\n"
    }
   },
   "outputs": [
    {
     "name": "stdout",
     "output_type": "stream",
     "text": [
      "Model: \"sequential_12\"\n",
      "_________________________________________________________________\n",
      " Layer (type)                Output Shape              Param #   \n",
      "=================================================================\n",
      " conv2d_9 (Conv2D)           (None, 100, 100, 25)      1900      \n",
      "                                                                 \n",
      " max_pooling2d_9 (MaxPooling  (None, 50, 50, 25)       0         \n",
      " 2D)                                                             \n",
      "                                                                 \n",
      " conv2d_10 (Conv2D)          (None, 25, 25, 50)        31300     \n",
      "                                                                 \n",
      " max_pooling2d_10 (MaxPoolin  (None, 13, 13, 50)       0         \n",
      " g2D)                                                            \n",
      "                                                                 \n",
      " batch_normalization_6 (Batc  (None, 13, 13, 50)       200       \n",
      " hNormalization)                                                 \n",
      "                                                                 \n",
      " conv2d_11 (Conv2D)          (None, 7, 7, 70)          31570     \n",
      "                                                                 \n",
      " max_pooling2d_11 (MaxPoolin  (None, 3, 3, 70)         0         \n",
      " g2D)                                                            \n",
      "                                                                 \n",
      " batch_normalization_7 (Batc  (None, 3, 3, 70)         280       \n",
      " hNormalization)                                                 \n",
      "                                                                 \n",
      " flatten_6 (Flatten)         (None, 630)               0         \n",
      "                                                                 \n",
      " dense_24 (Dense)            (None, 100)               63100     \n",
      "                                                                 \n",
      " dense_25 (Dense)            (None, 100)               10100     \n",
      "                                                                 \n",
      " dropout_3 (Dropout)         (None, 100)               0         \n",
      "                                                                 \n",
      " dense_26 (Dense)            (None, 2)                 202       \n",
      "                                                                 \n",
      "=================================================================\n",
      "Total params: 138,652\n",
      "Trainable params: 138,412\n",
      "Non-trainable params: 240\n",
      "_________________________________________________________________\n"
     ]
    }
   ],
   "source": [
    "model.summary()"
   ]
  },
  {
   "cell_type": "code",
   "execution_count": 62,
   "metadata": {
    "pycharm": {
     "name": "#%%\n"
    }
   },
   "outputs": [],
   "source": [
    "model.compile(loss=\"sparse_categorical_crossentropy\",\n",
    "optimizer=\"adam\",\n",
    "metrics=[\"accuracy\"])"
   ]
  },
  {
   "cell_type": "code",
   "execution_count": 62,
   "metadata": {
    "pycharm": {
     "name": "#%%\n"
    }
   },
   "outputs": [],
   "source": []
  },
  {
   "cell_type": "code",
   "execution_count": 63,
   "metadata": {
    "pycharm": {
     "name": "#%%\n"
    }
   },
   "outputs": [
    {
     "name": "stdout",
     "output_type": "stream",
     "text": [
      "Epoch 1/500\n",
      "422/422 [==============================] - 28s 65ms/step - loss: 0.1177 - accuracy: 0.9555 - val_loss: 0.1969 - val_accuracy: 0.9339 - lr: 0.0010\n",
      "Epoch 2/500\n",
      "422/422 [==============================] - 28s 67ms/step - loss: 0.0428 - accuracy: 0.9843 - val_loss: 0.1918 - val_accuracy: 0.9226 - lr: 0.0010\n",
      "Epoch 3/500\n",
      "422/422 [==============================] - 28s 66ms/step - loss: 0.0243 - accuracy: 0.9913 - val_loss: 0.3026 - val_accuracy: 0.9044 - lr: 0.0010\n",
      "Epoch 4/500\n",
      "422/422 [==============================] - 28s 66ms/step - loss: 0.0255 - accuracy: 0.9912 - val_loss: 0.0698 - val_accuracy: 0.9817 - lr: 0.0010\n",
      "Epoch 5/500\n",
      "422/422 [==============================] - 28s 66ms/step - loss: 0.0185 - accuracy: 0.9934 - val_loss: 0.1131 - val_accuracy: 0.9719 - lr: 0.0010\n",
      "Epoch 6/500\n",
      "422/422 [==============================] - 28s 66ms/step - loss: 0.0147 - accuracy: 0.9955 - val_loss: 0.0848 - val_accuracy: 0.9691 - lr: 0.0010\n",
      "Epoch 7/500\n",
      "422/422 [==============================] - 28s 66ms/step - loss: 0.0154 - accuracy: 0.9954 - val_loss: 0.0409 - val_accuracy: 0.9902 - lr: 0.0010\n",
      "Epoch 8/500\n",
      "422/422 [==============================] - 28s 66ms/step - loss: 0.0115 - accuracy: 0.9963 - val_loss: 0.1095 - val_accuracy: 0.9578 - lr: 0.0010\n",
      "Epoch 9/500\n",
      "422/422 [==============================] - 28s 66ms/step - loss: 0.0155 - accuracy: 0.9950 - val_loss: 0.0652 - val_accuracy: 0.9831 - lr: 0.0010\n",
      "Epoch 10/500\n",
      "422/422 [==============================] - 28s 66ms/step - loss: 0.0070 - accuracy: 0.9973 - val_loss: 0.0319 - val_accuracy: 0.9930 - lr: 0.0010\n",
      "Epoch 11/500\n",
      "422/422 [==============================] - 28s 66ms/step - loss: 0.0073 - accuracy: 0.9975 - val_loss: 0.0827 - val_accuracy: 0.9845 - lr: 0.0010\n",
      "Epoch 12/500\n",
      "422/422 [==============================] - 28s 65ms/step - loss: 0.0093 - accuracy: 0.9961 - val_loss: 0.0470 - val_accuracy: 0.9958 - lr: 0.0010\n",
      "Epoch 13/500\n",
      "422/422 [==============================] - 28s 66ms/step - loss: 0.0075 - accuracy: 0.9973 - val_loss: 0.0452 - val_accuracy: 0.9873 - lr: 0.0010\n",
      "Epoch 14/500\n",
      "422/422 [==============================] - 28s 65ms/step - loss: 0.0069 - accuracy: 0.9979 - val_loss: 0.0354 - val_accuracy: 0.9944 - lr: 0.0010\n",
      "Epoch 15/500\n",
      "422/422 [==============================] - 28s 66ms/step - loss: 0.0044 - accuracy: 0.9985 - val_loss: 0.0484 - val_accuracy: 0.9944 - lr: 0.0010\n",
      "Epoch 16/500\n",
      "422/422 [==============================] - 28s 66ms/step - loss: 0.0115 - accuracy: 0.9961 - val_loss: 0.0888 - val_accuracy: 0.9817 - lr: 0.0010\n",
      "Epoch 17/500\n",
      "422/422 [==============================] - 28s 66ms/step - loss: 0.0049 - accuracy: 0.9984 - val_loss: 0.0569 - val_accuracy: 0.9958 - lr: 0.0010\n",
      "Epoch 18/500\n",
      "422/422 [==============================] - 28s 67ms/step - loss: 0.0066 - accuracy: 0.9973 - val_loss: 0.7553 - val_accuracy: 0.8917 - lr: 0.0010\n",
      "Epoch 19/500\n",
      "421/422 [============================>.] - ETA: 0s - loss: 0.0070 - accuracy: 0.9973\n",
      "Epoch 19: ReduceLROnPlateau reducing learning rate to 0.00010000000474974513.\n",
      "422/422 [==============================] - 28s 66ms/step - loss: 0.0070 - accuracy: 0.9973 - val_loss: 0.0625 - val_accuracy: 0.9887 - lr: 0.0010\n",
      "Epoch 20/500\n",
      "422/422 [==============================] - 28s 66ms/step - loss: 0.0032 - accuracy: 0.9991 - val_loss: 0.0381 - val_accuracy: 0.9958 - lr: 1.0000e-04\n",
      "Epoch 21/500\n",
      "422/422 [==============================] - 28s 65ms/step - loss: 9.1780e-04 - accuracy: 0.9999 - val_loss: 0.0341 - val_accuracy: 0.9958 - lr: 1.0000e-04\n",
      "Epoch 22/500\n",
      "422/422 [==============================] - 28s 65ms/step - loss: 7.3235e-04 - accuracy: 0.9997 - val_loss: 0.0298 - val_accuracy: 0.9972 - lr: 1.0000e-04\n",
      "Epoch 23/500\n",
      "422/422 [==============================] - 27s 65ms/step - loss: 2.9978e-04 - accuracy: 0.9999 - val_loss: 0.0334 - val_accuracy: 0.9972 - lr: 1.0000e-04\n",
      "Epoch 24/500\n",
      "422/422 [==============================] - 27s 65ms/step - loss: 1.8776e-04 - accuracy: 1.0000 - val_loss: 0.0371 - val_accuracy: 0.9958 - lr: 1.0000e-04\n",
      "Epoch 25/500\n",
      "422/422 [==============================] - 27s 65ms/step - loss: 3.2420e-04 - accuracy: 0.9999 - val_loss: 0.0408 - val_accuracy: 0.9958 - lr: 1.0000e-04\n",
      "Epoch 26/500\n",
      "422/422 [==============================] - 27s 65ms/step - loss: 2.5058e-04 - accuracy: 0.9999 - val_loss: 0.0410 - val_accuracy: 0.9958 - lr: 1.0000e-04\n",
      "Epoch 27/500\n",
      "422/422 [==============================] - 27s 65ms/step - loss: 1.9305e-04 - accuracy: 1.0000 - val_loss: 0.0432 - val_accuracy: 0.9972 - lr: 1.0000e-04\n",
      "Epoch 28/500\n",
      "422/422 [==============================] - 27s 65ms/step - loss: 3.7667e-04 - accuracy: 0.9999 - val_loss: 0.0477 - val_accuracy: 0.9958 - lr: 1.0000e-04\n",
      "Epoch 29/500\n",
      "422/422 [==============================] - ETA: 0s - loss: 1.8124e-04 - accuracy: 0.9999\n",
      "Epoch 29: ReduceLROnPlateau reducing learning rate to 1.0000000474974514e-05.\n",
      "422/422 [==============================] - 28s 65ms/step - loss: 1.8124e-04 - accuracy: 0.9999 - val_loss: 0.0491 - val_accuracy: 0.9958 - lr: 1.0000e-04\n",
      "Epoch 30/500\n",
      "422/422 [==============================] - 27s 65ms/step - loss: 1.1122e-04 - accuracy: 1.0000 - val_loss: 0.0471 - val_accuracy: 0.9958 - lr: 1.0000e-05\n",
      "Epoch 31/500\n",
      "422/422 [==============================] - 27s 65ms/step - loss: 7.2349e-05 - accuracy: 1.0000 - val_loss: 0.0473 - val_accuracy: 0.9958 - lr: 1.0000e-05\n",
      "Epoch 32/500\n",
      "422/422 [==============================] - 27s 65ms/step - loss: 5.7940e-05 - accuracy: 1.0000 - val_loss: 0.0464 - val_accuracy: 0.9972 - lr: 1.0000e-05\n",
      "Epoch 33/500\n",
      "422/422 [==============================] - 28s 65ms/step - loss: 8.1811e-05 - accuracy: 1.0000 - val_loss: 0.0464 - val_accuracy: 0.9972 - lr: 1.0000e-05\n",
      "Epoch 34/500\n",
      "422/422 [==============================] - 27s 65ms/step - loss: 2.4599e-04 - accuracy: 0.9999 - val_loss: 0.0492 - val_accuracy: 0.9958 - lr: 1.0000e-05\n",
      "Epoch 35/500\n",
      "422/422 [==============================] - 28s 66ms/step - loss: 5.9573e-05 - accuracy: 1.0000 - val_loss: 0.0461 - val_accuracy: 0.9958 - lr: 1.0000e-05\n",
      "Epoch 36/500\n",
      "422/422 [==============================] - ETA: 0s - loss: 7.9159e-05 - accuracy: 1.0000\n",
      "Epoch 36: ReduceLROnPlateau reducing learning rate to 1.0000000656873453e-06.\n",
      "422/422 [==============================] - 28s 66ms/step - loss: 7.9159e-05 - accuracy: 1.0000 - val_loss: 0.0460 - val_accuracy: 0.9958 - lr: 1.0000e-05\n",
      "Epoch 37/500\n",
      "422/422 [==============================] - 27s 65ms/step - loss: 7.3546e-05 - accuracy: 1.0000 - val_loss: 0.0458 - val_accuracy: 0.9958 - lr: 1.0000e-06\n",
      "Epoch 38/500\n",
      "422/422 [==============================] - 27s 65ms/step - loss: 2.7960e-05 - accuracy: 1.0000 - val_loss: 0.0457 - val_accuracy: 0.9958 - lr: 1.0000e-06\n",
      "Epoch 39/500\n",
      "422/422 [==============================] - 27s 64ms/step - loss: 5.2471e-05 - accuracy: 1.0000 - val_loss: 0.0455 - val_accuracy: 0.9958 - lr: 1.0000e-06\n",
      "Epoch 40/500\n",
      "422/422 [==============================] - 27s 64ms/step - loss: 1.2724e-04 - accuracy: 0.9999 - val_loss: 0.0461 - val_accuracy: 0.9958 - lr: 1.0000e-06\n",
      "Epoch 41/500\n",
      "422/422 [==============================] - 27s 64ms/step - loss: 5.6290e-05 - accuracy: 1.0000 - val_loss: 0.0463 - val_accuracy: 0.9958 - lr: 1.0000e-06\n",
      "Epoch 42/500\n",
      "422/422 [==============================] - 27s 64ms/step - loss: 1.4530e-04 - accuracy: 0.9999 - val_loss: 0.0464 - val_accuracy: 0.9958 - lr: 1.0000e-06\n"
     ]
    }
   ],
   "source": [
    "callbacks = [tf.keras.callbacks.ReduceLROnPlateau(monitor='val_accuracy', factor=0.1, patience=7, verbose=1, min_delta=1e-4, mode='max')]\n",
    "\n",
    "callbacks.append(tf.keras.callbacks.EarlyStopping(monitor='val_accuracy', patience=20, verbose=0, restore_best_weights=True))\n",
    "\n",
    "\n",
    "history = model.fit(X_train, y_train, epochs=500,\n",
    "                    validation_split=0.05,\n",
    "                    callbacks=callbacks\n",
    "                   )"
   ]
  },
  {
   "cell_type": "markdown",
   "metadata": {
    "pycharm": {
     "name": "#%% md\n"
    }
   },
   "source": [
    "## VALIDANDO DE FORMA MAIS ELABORADA"
   ]
  },
  {
   "cell_type": "code",
   "execution_count": 64,
   "metadata": {
    "pycharm": {
     "name": "#%%\n"
    }
   },
   "outputs": [
    {
     "data": {
      "text/plain": "<Figure size 576x360 with 1 Axes>",
      "image/png": "[encoded data removed]"
     },
     "metadata": {},
     "output_type": "display_data"
    }
   ],
   "source": [
    "pd.DataFrame(history.history).plot(figsize=(8, 5))\n",
    "plt.grid(True)\n",
    "plt.gca().set_ylim(0, 1) # set the vertical range to [0-1]\n",
    "plt.xlabel('epoch')\n",
    "plt.show()"
   ]
  },
  {
   "cell_type": "code",
   "execution_count": 65,
   "metadata": {
    "pycharm": {
     "name": "#%%\n"
    }
   },
   "outputs": [
    {
     "name": "stdout",
     "output_type": "stream",
     "text": [
      "111/111 [==============================] - 2s 14ms/step - loss: 0.0043 - accuracy: 0.9983\n"
     ]
    },
    {
     "data": {
      "text/plain": "[0.004255861043930054, 0.9983108043670654]"
     },
     "execution_count": 65,
     "metadata": {},
     "output_type": "execute_result"
    }
   ],
   "source": [
    "model.evaluate(X_test, y_test)"
   ]
  },
  {
   "cell_type": "markdown",
   "metadata": {
    "pycharm": {
     "name": "#%% md\n"
    }
   },
   "source": [
    "## VISUALIZANDO A MATRIZ DE CONFUSÃO"
   ]
  },
  {
   "cell_type": "code",
   "execution_count": 69,
   "outputs": [
    {
     "data": {
      "text/plain": "<Figure size 720x720 with 2 Axes>",
      "image/png": "[encoded data removed]"
     },
     "metadata": {},
     "output_type": "display_data"
    }
   ],
   "source": [
    "cm = confusion_matrix(y_test,np.argmax(model.predict(X_test), axis=-1))\n",
    "\n",
    "\n",
    "cm_df = pd.DataFrame(cm,columns=class_to_int)\n",
    "\n",
    "\n",
    "fig, ax = plt.subplots(figsize=(10,10))\n",
    "sns.heatmap(cm_df, annot=True, fmt='d',\n",
    "            xticklabels=class_to_int, yticklabels=class_to_int)\n",
    "\n",
    "plt.show()"
   ],
   "metadata": {
    "collapsed": false,
    "pycharm": {
     "name": "#%%\n"
    }
   }
  },
  {
   "cell_type": "code",
   "execution_count": null,
   "outputs": [],
   "source": [],
   "metadata": {
    "collapsed": false,
    "pycharm": {
     "name": "#%%\n"
    }
   }
  }
 ],
 "metadata": {
  "kernelspec": {
   "display_name": "Python 3 (ipykernel)",
   "language": "python",
   "name": "python3"
  },
  "language_info": {
   "codemirror_mode": {
    "name": "ipython",
    "version": 3
   },
   "file_extension": ".py",
   "mimetype": "text/x-python",
   "name": "python",
   "nbconvert_exporter": "python",
   "pygments_lexer": "ipython3",
   "version": "3.8.13"
  }
 },
 "nbformat": 4,
 "nbformat_minor": 4
}